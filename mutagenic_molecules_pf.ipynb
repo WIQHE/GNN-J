{
  "nbformat": 4,
  "nbformat_minor": 0,
  "metadata": {
    "colab": {
      "provenance": [],
      "gpuType": "T4",
      "authorship_tag": "ABX9TyPGS0XmVwslzs8QMycoU5xS",
      "include_colab_link": true
    },
    "kernelspec": {
      "name": "python3",
      "display_name": "Python 3"
    },
    "language_info": {
      "name": "python"
    }
  },
  "cells": [
    {
      "cell_type": "markdown",
      "metadata": {
        "id": "view-in-github",
        "colab_type": "text"
      },
      "source": [
        "<a href=\"https://colab.research.google.com/github/WIQHE/GNN-J/blob/main/mutagenic_molecules_pf.ipynb\" target=\"_parent\"><img src=\"https://colab.research.google.com/assets/colab-badge.svg\" alt=\"Open In Colab\"/></a>"
      ]
    },
    {
      "cell_type": "code",
      "source": [
        "! pip install torch torchvision"
      ],
      "metadata": {
        "colab": {
          "base_uri": "https://localhost:8080/"
        },
        "id": "Zol7xvpeF4kH",
        "outputId": "9c0e7f75-aef1-4c4e-f3f0-bc1adf69759b"
      },
      "execution_count": null,
      "outputs": [
        {
          "output_type": "stream",
          "name": "stdout",
          "text": [
            "Requirement already satisfied: torch in /usr/local/lib/python3.11/dist-packages (2.6.0+cu124)\n",
            "Requirement already satisfied: torchvision in /usr/local/lib/python3.11/dist-packages (0.21.0+cu124)\n",
            "Requirement already satisfied: filelock in /usr/local/lib/python3.11/dist-packages (from torch) (3.18.0)\n",
            "Requirement already satisfied: typing-extensions>=4.10.0 in /usr/local/lib/python3.11/dist-packages (from torch) (4.14.1)\n",
            "Requirement already satisfied: networkx in /usr/local/lib/python3.11/dist-packages (from torch) (3.5)\n",
            "Requirement already satisfied: jinja2 in /usr/local/lib/python3.11/dist-packages (from torch) (3.1.6)\n",
            "Requirement already satisfied: fsspec in /usr/local/lib/python3.11/dist-packages (from torch) (2025.3.2)\n",
            "Requirement already satisfied: nvidia-cuda-nvrtc-cu12==12.4.127 in /usr/local/lib/python3.11/dist-packages (from torch) (12.4.127)\n",
            "Requirement already satisfied: nvidia-cuda-runtime-cu12==12.4.127 in /usr/local/lib/python3.11/dist-packages (from torch) (12.4.127)\n",
            "Requirement already satisfied: nvidia-cuda-cupti-cu12==12.4.127 in /usr/local/lib/python3.11/dist-packages (from torch) (12.4.127)\n",
            "Requirement already satisfied: nvidia-cudnn-cu12==9.1.0.70 in /usr/local/lib/python3.11/dist-packages (from torch) (9.1.0.70)\n",
            "Requirement already satisfied: nvidia-cublas-cu12==12.4.5.8 in /usr/local/lib/python3.11/dist-packages (from torch) (12.4.5.8)\n",
            "Requirement already satisfied: nvidia-cufft-cu12==11.2.1.3 in /usr/local/lib/python3.11/dist-packages (from torch) (11.2.1.3)\n",
            "Requirement already satisfied: nvidia-curand-cu12==10.3.5.147 in /usr/local/lib/python3.11/dist-packages (from torch) (10.3.5.147)\n",
            "Requirement already satisfied: nvidia-cusolver-cu12==11.6.1.9 in /usr/local/lib/python3.11/dist-packages (from torch) (11.6.1.9)\n",
            "Requirement already satisfied: nvidia-cusparse-cu12==12.3.1.170 in /usr/local/lib/python3.11/dist-packages (from torch) (12.3.1.170)\n",
            "Requirement already satisfied: nvidia-cusparselt-cu12==0.6.2 in /usr/local/lib/python3.11/dist-packages (from torch) (0.6.2)\n",
            "Requirement already satisfied: nvidia-nccl-cu12==2.21.5 in /usr/local/lib/python3.11/dist-packages (from torch) (2.21.5)\n",
            "Requirement already satisfied: nvidia-nvtx-cu12==12.4.127 in /usr/local/lib/python3.11/dist-packages (from torch) (12.4.127)\n",
            "Requirement already satisfied: nvidia-nvjitlink-cu12==12.4.127 in /usr/local/lib/python3.11/dist-packages (from torch) (12.4.127)\n",
            "Requirement already satisfied: triton==3.2.0 in /usr/local/lib/python3.11/dist-packages (from torch) (3.2.0)\n",
            "Requirement already satisfied: sympy==1.13.1 in /usr/local/lib/python3.11/dist-packages (from torch) (1.13.1)\n",
            "Requirement already satisfied: mpmath<1.4,>=1.1.0 in /usr/local/lib/python3.11/dist-packages (from sympy==1.13.1->torch) (1.3.0)\n",
            "Requirement already satisfied: numpy in /usr/local/lib/python3.11/dist-packages (from torchvision) (2.0.2)\n",
            "Requirement already satisfied: pillow!=8.3.*,>=5.3.0 in /usr/local/lib/python3.11/dist-packages (from torchvision) (11.2.1)\n",
            "Requirement already satisfied: MarkupSafe>=2.0 in /usr/local/lib/python3.11/dist-packages (from jinja2->torch) (3.0.2)\n"
          ]
        }
      ]
    },
    {
      "cell_type": "code",
      "execution_count": null,
      "metadata": {
        "colab": {
          "base_uri": "https://localhost:8080/"
        },
        "id": "OPw95MgY9fNY",
        "outputId": "8a117bef-289b-42a7-f8f2-eeb8b5aeec10"
      },
      "outputs": [
        {
          "output_type": "stream",
          "name": "stdout",
          "text": [
            "Requirement already satisfied: torch_geometric in /usr/local/lib/python3.11/dist-packages (2.6.1)\n",
            "Requirement already satisfied: aiohttp in /usr/local/lib/python3.11/dist-packages (from torch_geometric) (3.11.15)\n",
            "Requirement already satisfied: fsspec in /usr/local/lib/python3.11/dist-packages (from torch_geometric) (2025.3.2)\n",
            "Requirement already satisfied: jinja2 in /usr/local/lib/python3.11/dist-packages (from torch_geometric) (3.1.6)\n",
            "Requirement already satisfied: numpy in /usr/local/lib/python3.11/dist-packages (from torch_geometric) (2.0.2)\n",
            "Requirement already satisfied: psutil>=5.8.0 in /usr/local/lib/python3.11/dist-packages (from torch_geometric) (5.9.5)\n",
            "Requirement already satisfied: pyparsing in /usr/local/lib/python3.11/dist-packages (from torch_geometric) (3.2.3)\n",
            "Requirement already satisfied: requests in /usr/local/lib/python3.11/dist-packages (from torch_geometric) (2.32.3)\n",
            "Requirement already satisfied: tqdm in /usr/local/lib/python3.11/dist-packages (from torch_geometric) (4.67.1)\n",
            "Requirement already satisfied: aiohappyeyeballs>=2.3.0 in /usr/local/lib/python3.11/dist-packages (from aiohttp->torch_geometric) (2.6.1)\n",
            "Requirement already satisfied: aiosignal>=1.1.2 in /usr/local/lib/python3.11/dist-packages (from aiohttp->torch_geometric) (1.4.0)\n",
            "Requirement already satisfied: attrs>=17.3.0 in /usr/local/lib/python3.11/dist-packages (from aiohttp->torch_geometric) (25.3.0)\n",
            "Requirement already satisfied: frozenlist>=1.1.1 in /usr/local/lib/python3.11/dist-packages (from aiohttp->torch_geometric) (1.7.0)\n",
            "Requirement already satisfied: multidict<7.0,>=4.5 in /usr/local/lib/python3.11/dist-packages (from aiohttp->torch_geometric) (6.6.3)\n",
            "Requirement already satisfied: propcache>=0.2.0 in /usr/local/lib/python3.11/dist-packages (from aiohttp->torch_geometric) (0.3.2)\n",
            "Requirement already satisfied: yarl<2.0,>=1.17.0 in /usr/local/lib/python3.11/dist-packages (from aiohttp->torch_geometric) (1.20.1)\n",
            "Requirement already satisfied: MarkupSafe>=2.0 in /usr/local/lib/python3.11/dist-packages (from jinja2->torch_geometric) (3.0.2)\n",
            "Requirement already satisfied: charset-normalizer<4,>=2 in /usr/local/lib/python3.11/dist-packages (from requests->torch_geometric) (3.4.2)\n",
            "Requirement already satisfied: idna<4,>=2.5 in /usr/local/lib/python3.11/dist-packages (from requests->torch_geometric) (3.10)\n",
            "Requirement already satisfied: urllib3<3,>=1.21.1 in /usr/local/lib/python3.11/dist-packages (from requests->torch_geometric) (2.4.0)\n",
            "Requirement already satisfied: certifi>=2017.4.17 in /usr/local/lib/python3.11/dist-packages (from requests->torch_geometric) (2025.7.14)\n",
            "Requirement already satisfied: typing-extensions>=4.2 in /usr/local/lib/python3.11/dist-packages (from aiosignal>=1.1.2->aiohttp->torch_geometric) (4.14.1)\n",
            "Requirement already satisfied: torch-scatter in /usr/local/lib/python3.11/dist-packages (2.1.2)\n",
            "Requirement already satisfied: torch-sparse in /usr/local/lib/python3.11/dist-packages (0.6.18)\n",
            "Requirement already satisfied: torch-cluster in /usr/local/lib/python3.11/dist-packages (1.6.3)\n",
            "Requirement already satisfied: torch-spline-conv in /usr/local/lib/python3.11/dist-packages (1.2.2)\n",
            "Requirement already satisfied: scipy in /usr/local/lib/python3.11/dist-packages (from torch-sparse) (1.15.3)\n",
            "Requirement already satisfied: numpy<2.5,>=1.23.5 in /usr/local/lib/python3.11/dist-packages (from scipy->torch-sparse) (2.0.2)\n"
          ]
        }
      ],
      "source": [
        "! pip install torch_geometric\n",
        "! pip install torch-scatter torch-sparse torch-cluster torch-spline-conv"
      ]
    },
    {
      "cell_type": "code",
      "source": [
        "from torch_geometric.datasets import TUDataset\n",
        "from torch_geometric.data import DataLoader"
      ],
      "metadata": {
        "id": "wsiOgkpEB7OD"
      },
      "execution_count": null,
      "outputs": []
    },
    {
      "cell_type": "code",
      "source": [
        "dataset = TUDataset(root='data/TUDataset', name='Mutagenicity')\n",
        "dataset = dataset.shuffle()\n",
        "train_dataset = dataset[:1500]\n",
        "test_dataset = dataset[1500:]\n",
        "\n",
        "train_loader = DataLoader(train_dataset, batch_size=64)\n",
        "test_loader = DataLoader(test_dataset, batch_size=64)\n",
        "\n",
        "print(dataset)\n",
        "print(dataset[0])"
      ],
      "metadata": {
        "colab": {
          "base_uri": "https://localhost:8080/"
        },
        "id": "QJ9wfe9BB7Qy",
        "outputId": "d6d418e4-42cd-4b2e-fa7d-cf9cc1533d64"
      },
      "execution_count": null,
      "outputs": [
        {
          "output_type": "stream",
          "name": "stdout",
          "text": [
            "Mutagenicity(4337)\n",
            "Data(edge_index=[2, 36], x=[17, 14], edge_attr=[36, 3], y=[1])\n"
          ]
        },
        {
          "output_type": "stream",
          "name": "stderr",
          "text": [
            "/usr/local/lib/python3.11/dist-packages/torch_geometric/deprecation.py:26: UserWarning: 'data.DataLoader' is deprecated, use 'loader.DataLoader' instead\n",
            "  warnings.warn(out)\n"
          ]
        }
      ]
    },
    {
      "cell_type": "code",
      "source": [
        "import torch\n",
        "import torch.nn.functional as F\n",
        "from torch_geometric.nn import GCNConv, GCN2Conv, global_mean_pool\n",
        "\n",
        "\n",
        "class GCN(torch.nn.Module):\n",
        "  def __init__(self, in_ch, hid_ch, out_ch=1):\n",
        "    super().__init__()\n",
        "    self.conv1 = GCNConv(in_ch, hid_ch)\n",
        "    self.conv2 = GCNConv(hid_ch, hid_ch)\n",
        "    self.lin = torch.nn.Linear(hid_ch, out_ch)\n",
        "  def forward(self, x, edge_idx, batch):\n",
        "    x = self.conv1(x, edge_idx)\n",
        "    x = F.relu(x)\n",
        "    x = self.conv2(x,edge_idx)\n",
        "    x = F.relu(x)\n",
        "    x = global_mean_pool(x, batch)\n",
        "\n",
        "    return torch.sigmoid(self.lin(x)).squeeze()\n"
      ],
      "metadata": {
        "id": "mD63bmKJCK4O"
      },
      "execution_count": null,
      "outputs": []
    },
    {
      "cell_type": "code",
      "source": [
        "def train(model, loader, optimizer, criterion):\n",
        "  model.train()\n",
        "  t_loss = 0\n",
        "  for data in loader:\n",
        "    optimizer.zero_grad()\n",
        "    out = model(data.x.float(), data.edge_index, data.batch)\n",
        "    loss = criterion(out, data.y.float())\n",
        "    loss.backward()\n",
        "    optimizer.step()\n",
        "    t_loss += loss.item() * data.num_graphs\n",
        "  return t_loss / len(loader.dataset)"
      ],
      "metadata": {
        "id": "a6g5DGsqCK1V"
      },
      "execution_count": null,
      "outputs": []
    },
    {
      "cell_type": "code",
      "source": [
        "\n",
        "def test(model, loader):\n",
        "  model.eval()\n",
        "  correct =0\n",
        "  for data in loader:\n",
        "    with torch.no_grad():\n",
        "      out = model(data.x.float(), data.edge_index, data.batch)\n",
        "      pred = ( out > 0.5).long()\n",
        "      correct +=(pred == data.y).sum().item()\n",
        "  return correct / len(loader.dataset)\n",
        "\n"
      ],
      "metadata": {
        "id": "3mmLY3q-CKyu"
      },
      "execution_count": null,
      "outputs": []
    },
    {
      "cell_type": "code",
      "source": [
        "device = torch.device('cuda' if torch.cuda.is_available() else 'cpu')\n",
        "model = GCN(dataset.num_node_features, 64).to(device)\n",
        "optimizer = torch.optim.Adagrad(model.parameters(), lr=0.01)\n",
        "criterion = torch.nn.BCELoss()"
      ],
      "metadata": {
        "id": "Louxz_D3CKwI"
      },
      "execution_count": null,
      "outputs": []
    },
    {
      "cell_type": "code",
      "source": [
        "for epoch in range(1,31):\n",
        "  loss = train(model, train_loader, optimizer, criterion)\n",
        "  acc = test(model, test_loader)\n",
        "  print(f'epoch: {epoch:02d}, loss: {loss:.4f}, Test Acc: {acc:.4f}')"
      ],
      "metadata": {
        "colab": {
          "base_uri": "https://localhost:8080/"
        },
        "id": "9aqAaYH1CKtz",
        "outputId": "103f693d-5f4e-4782-8fe8-dadd45fca19a"
      },
      "execution_count": null,
      "outputs": [
        {
          "output_type": "stream",
          "name": "stdout",
          "text": [
            "epoch: 01, loss: 0.6234, Test Acc: 0.6528\n",
            "epoch: 02, loss: 0.6128, Test Acc: 0.6570\n",
            "epoch: 03, loss: 0.6066, Test Acc: 0.6588\n",
            "epoch: 04, loss: 0.6026, Test Acc: 0.6584\n",
            "epoch: 05, loss: 0.5997, Test Acc: 0.6641\n",
            "epoch: 06, loss: 0.5973, Test Acc: 0.6648\n",
            "epoch: 07, loss: 0.5954, Test Acc: 0.6644\n",
            "epoch: 08, loss: 0.5936, Test Acc: 0.6648\n",
            "epoch: 09, loss: 0.5921, Test Acc: 0.6690\n",
            "epoch: 10, loss: 0.5907, Test Acc: 0.6687\n",
            "epoch: 11, loss: 0.5894, Test Acc: 0.6704\n",
            "epoch: 12, loss: 0.5882, Test Acc: 0.6718\n",
            "epoch: 13, loss: 0.5871, Test Acc: 0.6754\n",
            "epoch: 14, loss: 0.5860, Test Acc: 0.6771\n",
            "epoch: 15, loss: 0.5850, Test Acc: 0.6771\n",
            "epoch: 16, loss: 0.5840, Test Acc: 0.6775\n",
            "epoch: 17, loss: 0.5830, Test Acc: 0.6785\n",
            "epoch: 18, loss: 0.5821, Test Acc: 0.6789\n",
            "epoch: 19, loss: 0.5812, Test Acc: 0.6792\n",
            "epoch: 20, loss: 0.5804, Test Acc: 0.6810\n",
            "epoch: 21, loss: 0.5795, Test Acc: 0.6814\n",
            "epoch: 22, loss: 0.5787, Test Acc: 0.6849\n",
            "epoch: 23, loss: 0.5780, Test Acc: 0.6852\n",
            "epoch: 24, loss: 0.5772, Test Acc: 0.6863\n",
            "epoch: 25, loss: 0.5765, Test Acc: 0.6866\n",
            "epoch: 26, loss: 0.5758, Test Acc: 0.6866\n",
            "epoch: 27, loss: 0.5751, Test Acc: 0.6863\n",
            "epoch: 28, loss: 0.5744, Test Acc: 0.6859\n",
            "epoch: 29, loss: 0.5737, Test Acc: 0.6852\n",
            "epoch: 30, loss: 0.5731, Test Acc: 0.6866\n"
          ]
        }
      ]
    },
    {
      "cell_type": "code",
      "source": [],
      "metadata": {
        "id": "zkeOcPBaCKrL"
      },
      "execution_count": null,
      "outputs": []
    },
    {
      "cell_type": "code",
      "source": [],
      "metadata": {
        "id": "RDNc5s5sCKol"
      },
      "execution_count": null,
      "outputs": []
    },
    {
      "cell_type": "code",
      "source": [],
      "metadata": {
        "id": "J0j40_YgCKjG"
      },
      "execution_count": null,
      "outputs": []
    },
    {
      "cell_type": "code",
      "source": [],
      "metadata": {
        "id": "kU6IMxclCKgm"
      },
      "execution_count": null,
      "outputs": []
    }
  ]
}